{
 "cells": [
  {
   "cell_type": "code",
   "execution_count": 1,
   "metadata": {},
   "outputs": [],
   "source": [
    "# -*- coding: utf-8 -*-\n",
    "\n",
    "import os\n",
    "import pickle\n",
    "import random\n",
    "import argparse\n",
    "import torch as t\n",
    "import numpy as np\n",
    "\n",
    "from tqdm import tqdm\n",
    "from torch.optim import Adam\n",
    "from torch.utils.data import Dataset, DataLoader\n",
    "from model import Word2Vec, SGNS, Emoji"
   ]
  },
  {
   "cell_type": "code",
   "execution_count": 12,
   "metadata": {},
   "outputs": [],
   "source": [
    "\n",
    "\n",
    "class PermutedSubsampledCorpus(Dataset):\n",
    "\n",
    "    def __init__(self, datapath, ws=None):\n",
    "        data = pickle.load(open(datapath, 'rb'))\n",
    "        if ws is not None:\n",
    "            self.data = []\n",
    "            for iword, owords in data:\n",
    "                if random.random() > ws[iword]:\n",
    "                    self.data.append((iword, owords))\n",
    "        else:\n",
    "            self.data = data\n",
    "\n",
    "    def __len__(self):\n",
    "        return len(self.data)\n",
    "\n",
    "    def __getitem__(self, idx):\n",
    "        iword, owords = self.data[idx]\n",
    "        return iword, np.array(owords)\n",
    "\n",
    "idx2word = pickle.load(open('./data/idx2word.dat', 'rb'))\n",
    "\n",
    "vocab_size = len(idx2word)\n",
    "\n",
    "em=10  #int(vocab_size**0.25)\n",
    "\n",
    "model = Emoji(vocab_size=vocab_size, embedding_dim=em)\n",
    "\n",
    "optim = Adam(model.parameters())"
   ]
  },
  {
   "cell_type": "code",
   "execution_count": 6,
   "metadata": {},
   "outputs": [
    {
     "ename": "NameError",
     "evalue": "name 'args' is not defined",
     "output_type": "error",
     "traceback": [
      "\u001b[0;31m---------------------------------------------------------------------------\u001b[0m",
      "\u001b[0;31mNameError\u001b[0m                                 Traceback (most recent call last)",
      "\u001b[0;32m<ipython-input-6-cd32aba639d9>\u001b[0m in \u001b[0;36m<module>\u001b[0;34m()\u001b[0m\n\u001b[1;32m      1\u001b[0m \u001b[0;34m\u001b[0m\u001b[0m\n\u001b[1;32m      2\u001b[0m \u001b[0;34m\u001b[0m\u001b[0m\n\u001b[0;32m----> 3\u001b[0;31m \u001b[0;32mfor\u001b[0m \u001b[0mepoch\u001b[0m \u001b[0;32min\u001b[0m \u001b[0mrange\u001b[0m\u001b[0;34m(\u001b[0m\u001b[0;36m1\u001b[0m\u001b[0;34m,\u001b[0m \u001b[0margs\u001b[0m\u001b[0;34m.\u001b[0m\u001b[0mepoch\u001b[0m \u001b[0;34m+\u001b[0m \u001b[0;36m1\u001b[0m\u001b[0;34m)\u001b[0m\u001b[0;34m:\u001b[0m\u001b[0;34m\u001b[0m\u001b[0m\n\u001b[0m\u001b[1;32m      4\u001b[0m     \u001b[0mdataset\u001b[0m \u001b[0;34m=\u001b[0m \u001b[0mPermutedSubsampledCorpus\u001b[0m\u001b[0;34m(\u001b[0m\u001b[0mos\u001b[0m\u001b[0;34m.\u001b[0m\u001b[0mpath\u001b[0m\u001b[0;34m.\u001b[0m\u001b[0mjoin\u001b[0m\u001b[0;34m(\u001b[0m\u001b[0margs\u001b[0m\u001b[0;34m.\u001b[0m\u001b[0mdata_dir\u001b[0m\u001b[0;34m,\u001b[0m \u001b[0;34m'train.dat'\u001b[0m\u001b[0;34m)\u001b[0m\u001b[0;34m)\u001b[0m\u001b[0;34m\u001b[0m\u001b[0m\n\u001b[1;32m      5\u001b[0m     \u001b[0mdataloader\u001b[0m \u001b[0;34m=\u001b[0m \u001b[0mDataLoader\u001b[0m\u001b[0;34m(\u001b[0m\u001b[0mdataset\u001b[0m\u001b[0;34m,\u001b[0m \u001b[0mbatch_size\u001b[0m\u001b[0;34m=\u001b[0m\u001b[0margs\u001b[0m\u001b[0;34m.\u001b[0m\u001b[0mmb\u001b[0m\u001b[0;34m,\u001b[0m \u001b[0mshuffle\u001b[0m\u001b[0;34m=\u001b[0m\u001b[0;32mTrue\u001b[0m\u001b[0;34m)\u001b[0m\u001b[0;34m\u001b[0m\u001b[0m\n",
      "\u001b[0;31mNameError\u001b[0m: name 'args' is not defined"
     ]
    }
   ],
   "source": [
    "\n",
    "\n",
    "for epoch in range(1, args.epoch + 1):\n",
    "    dataset = PermutedSubsampledCorpus(os.path.join(args.data_dir, 'train.dat'))\n",
    "    dataloader = DataLoader(dataset, batch_size=args.mb, shuffle=True)\n",
    "    total_batches = int(np.ceil(len(dataset) / args.mb))\n",
    "    pbar = tqdm(dataloader)\n",
    "    pbar.set_description(\"[Epoch {}]\".format(epoch))\n",
    "    \n",
    "    for iword, owords in pbar:\n",
    "        output = model(iword)\n",
    "        \n",
    "        label = # ganzer kontext\n",
    "        \n",
    "        loss = criterion(logits, labels) #sgns(iword, owords)\n",
    "        optim.zero_grad()\n",
    "        loss.backward()\n",
    "        optim.step()\n",
    "        pbar.set_postfix(loss=loss.item())\n",
    "idx2vec = model.ivectors.weight.data.cpu().numpy()\n",
    "pickle.dump(idx2vec, open(os.path.join(args.data_dir, 'idx2vec.dat'), 'wb'))\n",
    "t.save(sgns.state_dict(), os.path.join(args.save_dir, '{}.pt'.format(args.name)))\n",
    "t.save(optim.state_dict(), os.path.join(args.save_dir, '{}.optim.pt'.format(args.name)))"
   ]
  },
  {
   "cell_type": "code",
   "execution_count": null,
   "metadata": {},
   "outputs": [],
   "source": []
  }
 ],
 "metadata": {
  "kernelspec": {
   "display_name": "Python 3",
   "language": "python",
   "name": "python3"
  },
  "language_info": {
   "codemirror_mode": {
    "name": "ipython",
    "version": 3
   },
   "file_extension": ".py",
   "mimetype": "text/x-python",
   "name": "python",
   "nbconvert_exporter": "python",
   "pygments_lexer": "ipython3",
   "version": "3.7.0"
  }
 },
 "nbformat": 4,
 "nbformat_minor": 2
}
